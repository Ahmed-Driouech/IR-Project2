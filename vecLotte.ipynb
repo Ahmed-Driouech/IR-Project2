{
 "cells": [
  {
   "cell_type": "code",
   "execution_count": 1,
   "id": "3d85efd5-4ddc-426a-b220-82f0618adf8f",
   "metadata": {},
   "outputs": [
    {
     "name": "stdout",
     "output_type": "stream",
     "text": [
      "Loading data...\n",
      "Make vect...\n",
      "Transform vect...\n",
      "Dump vect...\n"
     ]
    },
    {
     "data": {
      "text/plain": [
       "['trained/vectorizervaswani.pkl']"
      ]
     },
     "execution_count": 1,
     "metadata": {},
     "output_type": "execute_result"
    }
   ],
   "source": [
    "import pandas as pd\n",
    "import joblib\n",
    "from sklearn.feature_extraction.text import TfidfVectorizer\n",
    "\n",
    "print('Loading data...')\n",
    "data_dir = './project-root/vaswani/raw/'\n",
    "collection = pd.read_csv(data_dir + \"collection.tsv\", sep='\\t', \n",
    "                                names=['doc_id', 'text'])\n",
    "# collection = collection\n",
    "\n",
    "print('Make vect...')\n",
    "vectorizer = TfidfVectorizer(decode_error='ignore')\n",
    "print('Transform vect...')\n",
    "vectorizer.fit_transform(collection)\n",
    "print('Dump vect...')\n",
    "joblib.dump(vectorizer, 'trained/vectorizervaswani.pkl')"
   ]
  },
  {
   "cell_type": "code",
   "execution_count": 2,
   "id": "08026d30-3a3a-4319-ad3c-2dbfe1292030",
   "metadata": {},
   "outputs": [
    {
     "data": {
      "text/plain": [
       "<1x2 sparse matrix of type '<class 'numpy.float64'>'\n",
       "\twith 0 stored elements in Compressed Sparse Row format>"
      ]
     },
     "execution_count": 2,
     "metadata": {},
     "output_type": "execute_result"
    }
   ],
   "source": [
    "import joblib\n",
    "import pandas as pd\n",
    "vectorizer =joblib.load('trained/vectorizervaswani.pkl')\n",
    "vectorizer.transform(['what\\'s paula deen s brother'])"
   ]
  },
  {
   "cell_type": "code",
   "execution_count": 3,
   "id": "675a8a29-1c7e-4b46-8474-468249698079",
   "metadata": {},
   "outputs": [],
   "source": [
    "data_dir = './project-root/vaswani/raw/'\n",
    "collection = pd.read_csv(data_dir + \"collection.tsv\", sep='\\t', \n",
    "                                names=['doc_id', 'text'])\n",
    "# collection['doc_id'] = collection['doc_id'].str.replace('_', '')\n",
    "# collection = collection.fillna(' ')\n",
    "# print(collection)\n",
    "doc_vecs = vectorizer.transform(collection['text'])"
   ]
  },
  {
   "cell_type": "code",
   "execution_count": 4,
   "id": "c13b77e7-cace-4f65-beed-9f546aef5811",
   "metadata": {},
   "outputs": [
    {
     "data": {
      "text/plain": [
       "<11429x2 sparse matrix of type '<class 'numpy.float64'>'\n",
       "\twith 35 stored elements in Compressed Sparse Row format>"
      ]
     },
     "execution_count": 4,
     "metadata": {},
     "output_type": "execute_result"
    }
   ],
   "source": [
    "doc_vecs"
   ]
  },
  {
   "cell_type": "code",
   "execution_count": 5,
   "id": "408a3530-31d0-4b9f-b48e-99daf613b03d",
   "metadata": {},
   "outputs": [],
   "source": [
    "import pickle\n",
    "file = open(\"trained/doc_vecsvaswani.pickle\",'wb')\n",
    "pickle.dump(doc_vecs, file)\n",
    "file.close()"
   ]
  },
  {
   "cell_type": "code",
   "execution_count": 6,
   "id": "b1ba77f9-8e3f-429e-a5a4-e189932fd6fe",
   "metadata": {},
   "outputs": [],
   "source": [
    "import pickle\n",
    "file = open(\"trained/doc_vecsvaswani.pickle\",'rb') \n",
    "doc_vecs = pickle.load(file)"
   ]
  },
  {
   "cell_type": "code",
   "execution_count": 7,
   "id": "0d896b84-7f9d-4c43-8e83-6fc86318ddb1",
   "metadata": {},
   "outputs": [
    {
     "data": {
      "text/plain": [
       "<11429x2 sparse matrix of type '<class 'numpy.float64'>'\n",
       "\twith 35 stored elements in Compressed Sparse Row format>"
      ]
     },
     "execution_count": 7,
     "metadata": {},
     "output_type": "execute_result"
    }
   ],
   "source": [
    "doc_vecs"
   ]
  },
  {
   "cell_type": "code",
   "execution_count": null,
   "id": "f9360d81-173d-4d61-a258-a9b865615030",
   "metadata": {},
   "outputs": [],
   "source": []
  }
 ],
 "metadata": {
  "kernelspec": {
   "display_name": "Python 3 (ipykernel)",
   "language": "python",
   "name": "python3"
  },
  "language_info": {
   "codemirror_mode": {
    "name": "ipython",
    "version": 3
   },
   "file_extension": ".py",
   "mimetype": "text/x-python",
   "name": "python",
   "nbconvert_exporter": "python",
   "pygments_lexer": "ipython3",
   "version": "3.9.21"
  }
 },
 "nbformat": 4,
 "nbformat_minor": 5
}
