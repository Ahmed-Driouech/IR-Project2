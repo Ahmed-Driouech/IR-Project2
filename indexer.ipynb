{
 "cells": [
  {
   "cell_type": "code",
   "execution_count": 3,
   "id": "9c1ab21f-0d49-4ad4-8779-8a5739649861",
   "metadata": {},
   "outputs": [
    {
     "name": "stdout",
     "output_type": "stream",
     "text": [
      "[Apr 06, 16:59:12] #> Loading collection...\n",
      "0M \n",
      "\n",
      "\n",
      "[Apr 06, 16:59:12] #> Creating directory /home/johan/experiments/vaswaniindex/indexes/vaswaniindex \n",
      "\n",
      "\n",
      "{\n",
      "    \"query_token_id\": \"[unused0]\",\n",
      "    \"doc_token_id\": \"[unused1]\",\n",
      "    \"query_token\": \"[Q]\",\n",
      "    \"doc_token\": \"[D]\",\n",
      "    \"ncells\": null,\n",
      "    \"centroid_score_threshold\": null,\n",
      "    \"ndocs\": null,\n",
      "    \"load_index_with_mmap\": false,\n",
      "    \"index_path\": null,\n",
      "    \"index_bsize\": 64,\n",
      "    \"nbits\": 2,\n",
      "    \"kmeans_niters\": 2,\n",
      "    \"resume\": false,\n",
      "    \"pool_factor\": 1,\n",
      "    \"clustering_mode\": \"hierarchical\",\n",
      "    \"protected_tokens\": 0,\n",
      "    \"similarity\": \"cosine\",\n",
      "    \"bsize\": 64,\n",
      "    \"accumsteps\": 1,\n",
      "    \"lr\": 1e-5,\n",
      "    \"maxsteps\": 400000,\n",
      "    \"save_every\": null,\n",
      "    \"warmup\": 20000,\n",
      "    \"warmup_bert\": null,\n",
      "    \"relu\": false,\n",
      "    \"nway\": 64,\n",
      "    \"use_ib_negatives\": true,\n",
      "    \"reranker\": false,\n",
      "    \"distillation_alpha\": 1.0,\n",
      "    \"ignore_scores\": false,\n",
      "    \"model_name\": null,\n",
      "    \"query_maxlen\": 32,\n",
      "    \"attend_to_mask_tokens\": false,\n",
      "    \"interaction\": \"colbert\",\n",
      "    \"dim\": 128,\n",
      "    \"doc_maxlen\": 180,\n",
      "    \"mask_punctuation\": true,\n",
      "    \"checkpoint\": \".\\/colbertv2.0\",\n",
      "    \"triples\": \"\\/future\\/u\\/okhattab\\/root\\/unit\\/experiments\\/2021.10\\/downstream.distillation.round2.2_score\\/round2.nway6.cosine.ib\\/examples.64.json\",\n",
      "    \"collection\": \".\\/project-root\\/vaswani\\/raw\\/collection.tsv\",\n",
      "    \"queries\": \"\\/future\\/u\\/okhattab\\/data\\/MSMARCO\\/queries.train.tsv\",\n",
      "    \"index_name\": \"vaswaniindex\",\n",
      "    \"overwrite\": false,\n",
      "    \"root\": \"\\/home\\/johan\\/experiments\",\n",
      "    \"experiment\": \"vaswaniindex\",\n",
      "    \"index_root\": null,\n",
      "    \"name\": \"2025-04\\/06\\/16.52.13\",\n",
      "    \"rank\": 0,\n",
      "    \"nranks\": 1,\n",
      "    \"amp\": true,\n",
      "    \"gpus\": 1,\n",
      "    \"avoid_fork_if_possible\": true\n",
      "}\n",
      "[Apr 06, 16:59:16] [0] \t\t # of sampled PIDs = 11429 \t sampled_pids[:3] = [6825, 166, 4892]\n",
      "[Apr 06, 16:59:16] [0] \t\t #> Encoding 11429 passages..\n"
     ]
    },
    {
     "name": "stderr",
     "output_type": "stream",
     "text": [
      "/home/johan/miniconda3/envs/colbert/lib/python3.9/site-packages/colbert/utils/amp.py:12: FutureWarning: `torch.cuda.amp.GradScaler(args...)` is deprecated. Please use `torch.amp.GradScaler('cuda', args...)` instead.\n",
      "  self.scaler = torch.cuda.amp.GradScaler()\n",
      "/home/johan/miniconda3/envs/colbert/lib/python3.9/site-packages/colbert/utils/amp.py:15: FutureWarning: `torch.cuda.amp.autocast(args...)` is deprecated. Please use `torch.amp.autocast('cuda', args...)` instead.\n",
      "  return torch.cuda.amp.autocast() if self.activated else NullContextManager()\n"
     ]
    },
    {
     "name": "stdout",
     "output_type": "stream",
     "text": [
      "[Apr 06, 16:59:52] [0] \t\t avg_doclen_est = 50.878990173339844 \t len(local_sample) = 11,429\n",
      "[Apr 06, 16:59:52] [0] \t\t Creating 8,192 partitions.\n",
      "[Apr 06, 16:59:52] [0] \t\t *Estimated* 581,495 embeddings.\n",
      "[Apr 06, 16:59:52] [0] \t\t #> Saving the indexing plan to /home/johan/experiments/vaswaniindex/indexes/vaswaniindex/plan.json ..\n"
     ]
    },
    {
     "name": "stderr",
     "output_type": "stream",
     "text": [
      "/home/johan/miniconda3/envs/colbert/lib/python3.9/site-packages/colbert/indexing/collection_indexer.py:256: FutureWarning: You are using `torch.load` with `weights_only=False` (the current default value), which uses the default pickle module implicitly. It is possible to construct malicious pickle data which will execute arbitrary code during unpickling (See https://github.com/pytorch/pytorch/blob/main/SECURITY.md#untrusted-models for more details). In a future release, the default value for `weights_only` will be flipped to `True`. This limits the functions that could be executed during unpickling. Arbitrary objects will no longer be allowed to be loaded via this mode unless they are explicitly allowlisted by the user via `torch.serialization.add_safe_globals`. We recommend you start setting `weights_only=True` for any use case where you don't have full control of the loaded file. Please open an issue on GitHub for any issues related to this experimental feature.\n",
      "  sub_sample = torch.load(sub_sample_path)\n"
     ]
    },
    {
     "name": "stdout",
     "output_type": "stream",
     "text": [
      "Clustering 552422 points in 128D to 8192 clusters, redo 1 times, 2 iterations\n",
      "  Preprocessing in 0.06 s\n",
      "[Apr 06, 17:00:11] Loading decompress_residuals_cpp extension (set COLBERT_LOAD_TORCH_EXTENSION_VERBOSE=True for more info)...\n"
     ]
    },
    {
     "name": "stderr",
     "output_type": "stream",
     "text": [
      "/home/johan/miniconda3/envs/colbert/lib/python3.9/site-packages/torch/utils/cpp_extension.py:1965: UserWarning: TORCH_CUDA_ARCH_LIST is not set, all archs for visible cards are included for compilation. \n",
      "If this is not desired, please set os.environ['TORCH_CUDA_ARCH_LIST'].\n",
      "  warnings.warn(\n"
     ]
    },
    {
     "name": "stdout",
     "output_type": "stream",
     "text": [
      "[Apr 06, 17:00:11] Loading packbits_cpp extension (set COLBERT_LOAD_TORCH_EXTENSION_VERBOSE=True for more info)...\n"
     ]
    },
    {
     "name": "stderr",
     "output_type": "stream",
     "text": [
      "/home/johan/miniconda3/envs/colbert/lib/python3.9/site-packages/torch/utils/cpp_extension.py:1965: UserWarning: TORCH_CUDA_ARCH_LIST is not set, all archs for visible cards are included for compilation. \n",
      "If this is not desired, please set os.environ['TORCH_CUDA_ARCH_LIST'].\n",
      "  warnings.warn(\n"
     ]
    },
    {
     "name": "stdout",
     "output_type": "stream",
     "text": [
      "[0.037, 0.036, 0.036, 0.031, 0.033, 0.035, 0.035, 0.033, 0.033, 0.032, 0.035, 0.033, 0.034, 0.035, 0.032, 0.037, 0.03, 0.033, 0.033, 0.033, 0.034, 0.036, 0.034, 0.035, 0.033, 0.034, 0.035, 0.035, 0.035, 0.035, 0.035, 0.038, 0.035, 0.033, 0.035, 0.032, 0.036, 0.032, 0.033, 0.039, 0.035, 0.033, 0.033, 0.036, 0.032, 0.032, 0.035, 0.037, 0.035, 0.032, 0.033, 0.036, 0.036, 0.034, 0.033, 0.034, 0.041, 0.034, 0.037, 0.034, 0.032, 0.035, 0.036, 0.035, 0.037, 0.034, 0.038, 0.036, 0.033, 0.033, 0.038, 0.034, 0.034, 0.038, 0.033, 0.035, 0.038, 0.035, 0.035, 0.037, 0.036, 0.034, 0.033, 0.037, 0.032, 0.034, 0.034, 0.033, 0.032, 0.036, 0.033, 0.037, 0.034, 0.037, 0.034, 0.035, 0.036, 0.033, 0.034, 0.034, 0.034, 0.036, 0.035, 0.033, 0.036, 0.033, 0.036, 0.033, 0.037, 0.034, 0.034, 0.037, 0.036, 0.033, 0.035, 0.033, 0.037, 0.037, 0.033, 0.035, 0.034, 0.033, 0.035, 0.037, 0.032, 0.038, 0.036, 0.033]\n",
      "[Apr 06, 17:00:12] #> Got bucket_cutoffs_quantiles = tensor([0.2500, 0.5000, 0.7500], device='cuda:0') and bucket_weights_quantiles = tensor([0.1250, 0.3750, 0.6250, 0.8750], device='cuda:0')\n",
      "[Apr 06, 17:00:12] #> Got bucket_cutoffs = tensor([-0.0273,  0.0000,  0.0272], device='cuda:0') and bucket_weights = tensor([-0.0485, -0.0126,  0.0127,  0.0486], device='cuda:0')\n",
      "[Apr 06, 17:00:12] avg_residual = 0.034637451171875\n"
     ]
    },
    {
     "name": "stderr",
     "output_type": "stream",
     "text": [
      "/home/johan/miniconda3/envs/colbert/lib/python3.9/site-packages/colbert/indexing/codecs/residual.py:141: FutureWarning: You are using `torch.load` with `weights_only=False` (the current default value), which uses the default pickle module implicitly. It is possible to construct malicious pickle data which will execute arbitrary code during unpickling (See https://github.com/pytorch/pytorch/blob/main/SECURITY.md#untrusted-models for more details). In a future release, the default value for `weights_only` will be flipped to `True`. This limits the functions that could be executed during unpickling. Arbitrary objects will no longer be allowed to be loaded via this mode unless they are explicitly allowlisted by the user via `torch.serialization.add_safe_globals`. We recommend you start setting `weights_only=True` for any use case where you don't have full control of the loaded file. Please open an issue on GitHub for any issues related to this experimental feature.\n",
      "  centroids = torch.load(centroids_path, map_location='cpu')\n",
      "/home/johan/miniconda3/envs/colbert/lib/python3.9/site-packages/colbert/indexing/codecs/residual.py:142: FutureWarning: You are using `torch.load` with `weights_only=False` (the current default value), which uses the default pickle module implicitly. It is possible to construct malicious pickle data which will execute arbitrary code during unpickling (See https://github.com/pytorch/pytorch/blob/main/SECURITY.md#untrusted-models for more details). In a future release, the default value for `weights_only` will be flipped to `True`. This limits the functions that could be executed during unpickling. Arbitrary objects will no longer be allowed to be loaded via this mode unless they are explicitly allowlisted by the user via `torch.serialization.add_safe_globals`. We recommend you start setting `weights_only=True` for any use case where you don't have full control of the loaded file. Please open an issue on GitHub for any issues related to this experimental feature.\n",
      "  avg_residual = torch.load(avgresidual_path, map_location='cpu')\n",
      "/home/johan/miniconda3/envs/colbert/lib/python3.9/site-packages/colbert/indexing/codecs/residual.py:143: FutureWarning: You are using `torch.load` with `weights_only=False` (the current default value), which uses the default pickle module implicitly. It is possible to construct malicious pickle data which will execute arbitrary code during unpickling (See https://github.com/pytorch/pytorch/blob/main/SECURITY.md#untrusted-models for more details). In a future release, the default value for `weights_only` will be flipped to `True`. This limits the functions that could be executed during unpickling. Arbitrary objects will no longer be allowed to be loaded via this mode unless they are explicitly allowlisted by the user via `torch.serialization.add_safe_globals`. We recommend you start setting `weights_only=True` for any use case where you don't have full control of the loaded file. Please open an issue on GitHub for any issues related to this experimental feature.\n",
      "  bucket_cutoffs, bucket_weights = torch.load(buckets_path, map_location='cpu')\n",
      "0it [00:00, ?it/s]"
     ]
    },
    {
     "name": "stdout",
     "output_type": "stream",
     "text": [
      "[Apr 06, 17:00:12] [0] \t\t #> Encoding 11429 passages..\n"
     ]
    },
    {
     "name": "stderr",
     "output_type": "stream",
     "text": [
      "/home/johan/miniconda3/envs/colbert/lib/python3.9/site-packages/colbert/utils/amp.py:15: FutureWarning: `torch.cuda.amp.autocast(args...)` is deprecated. Please use `torch.amp.autocast('cuda', args...)` instead.\n",
      "  return torch.cuda.amp.autocast() if self.activated else NullContextManager()\n"
     ]
    },
    {
     "name": "stdout",
     "output_type": "stream",
     "text": [
      "[Apr 06, 17:00:41] [0] \t\t #> Saving chunk 0: \t 11,429 passages and 581,496 embeddings. From #0 onward.\n"
     ]
    },
    {
     "name": "stderr",
     "output_type": "stream",
     "text": [
      "1it [00:29, 29.91s/it]"
     ]
    },
    {
     "name": "stdout",
     "output_type": "stream",
     "text": [
      "[Apr 06, 17:00:42] [0] \t\t #> Checking all files were saved...\n",
      "[Apr 06, 17:00:42] [0] \t\t Found all files!\n",
      "[Apr 06, 17:00:42] [0] \t\t #> Building IVF...\n",
      "[Apr 06, 17:00:42] [0] \t\t #> Loading codes...\n"
     ]
    },
    {
     "name": "stderr",
     "output_type": "stream",
     "text": [
      "\n",
      "  0%|                                                                                             | 0/1 [00:00<?, ?it/s]/home/johan/miniconda3/envs/colbert/lib/python3.9/site-packages/colbert/indexing/codecs/residual_embeddings.py:86: FutureWarning: You are using `torch.load` with `weights_only=False` (the current default value), which uses the default pickle module implicitly. It is possible to construct malicious pickle data which will execute arbitrary code during unpickling (See https://github.com/pytorch/pytorch/blob/main/SECURITY.md#untrusted-models for more details). In a future release, the default value for `weights_only` will be flipped to `True`. This limits the functions that could be executed during unpickling. Arbitrary objects will no longer be allowed to be loaded via this mode unless they are explicitly allowlisted by the user via `torch.serialization.add_safe_globals`. We recommend you start setting `weights_only=True` for any use case where you don't have full control of the loaded file. Please open an issue on GitHub for any issues related to this experimental feature.\n",
      "  return torch.load(codes_path, map_location='cpu')\n",
      "100%|████████████████████████████████████████████████████████████████████████████████████| 1/1 [00:00<00:00, 189.99it/s]"
     ]
    },
    {
     "name": "stdout",
     "output_type": "stream",
     "text": [
      "[Apr 06, 17:00:42] [0] \t\t Sorting codes...\n",
      "[Apr 06, 17:00:42] [0] \t\t Getting unique codes...\n",
      "[Apr 06, 17:00:42] #> Optimizing IVF to store map from centroids to list of pids..\n",
      "[Apr 06, 17:00:42] #> Building the emb2pid mapping..\n",
      "[Apr 06, 17:00:42] len(emb2pid) = 581496\n"
     ]
    },
    {
     "name": "stderr",
     "output_type": "stream",
     "text": [
      "\n",
      "100%|████████████████████████████████████████████████████████████████████████████| 8192/8192 [00:00<00:00, 85893.98it/s]\n"
     ]
    },
    {
     "name": "stdout",
     "output_type": "stream",
     "text": [
      "[Apr 06, 17:00:42] #> Saved optimized IVF to /home/johan/experiments/vaswaniindex/indexes/vaswaniindex/ivf.pid.pt\n",
      "[Apr 06, 17:00:42] [0] \t\t #> Saving the indexing metadata to /home/johan/experiments/vaswaniindex/indexes/vaswaniindex/metadata.json ..\n"
     ]
    }
   ],
   "source": [
    "from colbert.data import Queries, Collection\n",
    "from colbert.infra import Run, RunConfig, ColBERTConfig\n",
    "from colbert import Indexer, Searcher\n",
    "import pandas as pd\n",
    "import os\n",
    "\n",
    "data_dir = './project-root/vaswani/raw/collection.tsv'\n",
    "collection = Collection(data_dir)\n",
    "\n",
    "checkpoint = './colbertv2.0' \n",
    "if __name__=='__main__':\n",
    "    with Run().context(RunConfig(nranks=1, experiment=\"vaswaniindex\", avoid_fork_if_possible = True)):\n",
    "        config = ColBERTConfig(\n",
    "            nbits=2,\n",
    "            root=\"experiments\",\n",
    "            kmeans_niters = 2,\n",
    "        )\n",
    "        indexer = Indexer(checkpoint=checkpoint, config=config)\n",
    "        indexer.index( name=\"vaswaniindex\", collection=collection, overwrite=True )"
   ]
  },
  {
   "cell_type": "code",
   "execution_count": null,
   "id": "aebe9850-8379-47ce-8712-199f6096f44f",
   "metadata": {},
   "outputs": [],
   "source": []
  }
 ],
 "metadata": {
  "kernelspec": {
   "display_name": "Python 3 (ipykernel)",
   "language": "python",
   "name": "python3"
  },
  "language_info": {
   "codemirror_mode": {
    "name": "ipython",
    "version": 3
   },
   "file_extension": ".py",
   "mimetype": "text/x-python",
   "name": "python",
   "nbconvert_exporter": "python",
   "pygments_lexer": "ipython3",
   "version": "3.11.11"
  }
 },
 "nbformat": 4,
 "nbformat_minor": 5
}
